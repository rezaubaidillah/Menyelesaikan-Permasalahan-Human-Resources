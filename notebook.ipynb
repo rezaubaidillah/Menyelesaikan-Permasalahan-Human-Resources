{
  "cells": [
    {
      "cell_type": "markdown",
      "metadata": {
        "id": "Y2Y_vSuwTsdu"
      },
      "source": [
        "# Proyek Akhir: Menyelesaikan Permasalahan Perusahaan Jaya Jaya Maju"
      ]
    },
    {
      "cell_type": "markdown",
      "metadata": {
        "id": "IF_vM2TnTsdv"
      },
      "source": [
        "- Nama: Muhammad Reza Ubaidillah\n",
        "- Email: muhammadrezaubaidillah15@gmail.com\n",
        "- Id Dicoding: rezaubaidillah"
      ]
    },
    {
      "cell_type": "markdown",
      "metadata": {
        "id": "Xr5Yqxf8Tsdw"
      },
      "source": [
        "#  Business Understanding"
      ]
    },
    {
      "cell_type": "markdown",
      "metadata": {
        "id": "9g_xy-jrTsdw"
      },
      "source": [
        "* Mengidentifikasi faktor utama yang memengaruhi tingginya attrition rate di Jaya Jaya Maju."
      ]
    },
    {
      "cell_type": "markdown",
      "metadata": {
        "id": "mfN31GXJTsdw"
      },
      "source": [
        "## Persiapan"
      ]
    },
    {
      "cell_type": "markdown",
      "metadata": {
        "id": "CaEqsxWGTsdw"
      },
      "source": [
        "### Menyiapkan library yang dibutuhkan"
      ]
    },
    {
      "cell_type": "code",
      "execution_count": 2,
      "metadata": {
        "id": "xYhLUEvnTsdx",
        "trusted": true
      },
      "outputs": [],
      "source": [
        "import pandas as pd\n",
        "import numpy as np\n",
        "import matplotlib.pyplot as plt\n",
        "import seaborn as sns\n",
        "from sklearn.model_selection import train_test_split, GridSearchCV, cross_val_score\n",
        "from sklearn.preprocessing import LabelEncoder, StandardScaler\n",
        "from sklearn.linear_model import LogisticRegression\n",
        "from sklearn.ensemble import RandomForestClassifier\n",
        "from sklearn.metrics import accuracy_score, classification_report, roc_auc_score, precision_recall_curve\n",
        "from imblearn.over_sampling import SMOTE, BorderlineSMOTE\n",
        "from statsmodels.stats.outliers_influence import variance_inflation_factor\n"
      ]
    },
    {
      "cell_type": "markdown",
      "metadata": {
        "id": "mNRQSfyZTsdx"
      },
      "source": [
        "### Menyiapkan data yang akan diguankan"
      ]
    },
    {
      "cell_type": "code",
      "execution_count": 3,
      "metadata": {
        "id": "raMWiohBTsdx",
        "trusted": true
      },
      "outputs": [],
      "source": [
        "df = pd.read_csv(\"/content/drive/MyDrive/Colab Notebooks/HR/employee_data.csv\")"
      ]
    },
    {
      "cell_type": "code",
      "execution_count": 4,
      "metadata": {
        "colab": {
          "base_uri": "https://localhost:8080/",
          "height": 325
        },
        "id": "REy1Zcw3Tsdy",
        "outputId": "c41c6052-4232-41a5-d1f4-48be72c38e3c",
        "trusted": true
      },
      "outputs": [
        {
          "data": {
            "application/vnd.google.colaboratory.intrinsic+json": {
              "type": "dataframe",
              "variable_name": "df"
            },
            "text/html": [
              "\n",
              "  <div id=\"df-e43a7724-108e-42d5-8e52-17f2f635cca8\" class=\"colab-df-container\">\n",
              "    <div>\n",
              "<style scoped>\n",
              "    .dataframe tbody tr th:only-of-type {\n",
              "        vertical-align: middle;\n",
              "    }\n",
              "\n",
              "    .dataframe tbody tr th {\n",
              "        vertical-align: top;\n",
              "    }\n",
              "\n",
              "    .dataframe thead th {\n",
              "        text-align: right;\n",
              "    }\n",
              "</style>\n",
              "<table border=\"1\" class=\"dataframe\">\n",
              "  <thead>\n",
              "    <tr style=\"text-align: right;\">\n",
              "      <th></th>\n",
              "      <th>EmployeeId</th>\n",
              "      <th>Age</th>\n",
              "      <th>Attrition</th>\n",
              "      <th>BusinessTravel</th>\n",
              "      <th>DailyRate</th>\n",
              "      <th>Department</th>\n",
              "      <th>DistanceFromHome</th>\n",
              "      <th>Education</th>\n",
              "      <th>EducationField</th>\n",
              "      <th>EmployeeCount</th>\n",
              "      <th>...</th>\n",
              "      <th>RelationshipSatisfaction</th>\n",
              "      <th>StandardHours</th>\n",
              "      <th>StockOptionLevel</th>\n",
              "      <th>TotalWorkingYears</th>\n",
              "      <th>TrainingTimesLastYear</th>\n",
              "      <th>WorkLifeBalance</th>\n",
              "      <th>YearsAtCompany</th>\n",
              "      <th>YearsInCurrentRole</th>\n",
              "      <th>YearsSinceLastPromotion</th>\n",
              "      <th>YearsWithCurrManager</th>\n",
              "    </tr>\n",
              "  </thead>\n",
              "  <tbody>\n",
              "    <tr>\n",
              "      <th>0</th>\n",
              "      <td>1</td>\n",
              "      <td>38</td>\n",
              "      <td>NaN</td>\n",
              "      <td>Travel_Frequently</td>\n",
              "      <td>1444</td>\n",
              "      <td>Human Resources</td>\n",
              "      <td>1</td>\n",
              "      <td>4</td>\n",
              "      <td>Other</td>\n",
              "      <td>1</td>\n",
              "      <td>...</td>\n",
              "      <td>2</td>\n",
              "      <td>80</td>\n",
              "      <td>1</td>\n",
              "      <td>7</td>\n",
              "      <td>2</td>\n",
              "      <td>3</td>\n",
              "      <td>6</td>\n",
              "      <td>2</td>\n",
              "      <td>1</td>\n",
              "      <td>2</td>\n",
              "    </tr>\n",
              "    <tr>\n",
              "      <th>1</th>\n",
              "      <td>2</td>\n",
              "      <td>37</td>\n",
              "      <td>1.0</td>\n",
              "      <td>Travel_Rarely</td>\n",
              "      <td>1141</td>\n",
              "      <td>Research &amp; Development</td>\n",
              "      <td>11</td>\n",
              "      <td>2</td>\n",
              "      <td>Medical</td>\n",
              "      <td>1</td>\n",
              "      <td>...</td>\n",
              "      <td>1</td>\n",
              "      <td>80</td>\n",
              "      <td>0</td>\n",
              "      <td>15</td>\n",
              "      <td>2</td>\n",
              "      <td>1</td>\n",
              "      <td>1</td>\n",
              "      <td>0</td>\n",
              "      <td>0</td>\n",
              "      <td>0</td>\n",
              "    </tr>\n",
              "    <tr>\n",
              "      <th>2</th>\n",
              "      <td>3</td>\n",
              "      <td>51</td>\n",
              "      <td>1.0</td>\n",
              "      <td>Travel_Rarely</td>\n",
              "      <td>1323</td>\n",
              "      <td>Research &amp; Development</td>\n",
              "      <td>4</td>\n",
              "      <td>4</td>\n",
              "      <td>Life Sciences</td>\n",
              "      <td>1</td>\n",
              "      <td>...</td>\n",
              "      <td>3</td>\n",
              "      <td>80</td>\n",
              "      <td>3</td>\n",
              "      <td>18</td>\n",
              "      <td>2</td>\n",
              "      <td>4</td>\n",
              "      <td>10</td>\n",
              "      <td>0</td>\n",
              "      <td>2</td>\n",
              "      <td>7</td>\n",
              "    </tr>\n",
              "    <tr>\n",
              "      <th>3</th>\n",
              "      <td>4</td>\n",
              "      <td>42</td>\n",
              "      <td>0.0</td>\n",
              "      <td>Travel_Frequently</td>\n",
              "      <td>555</td>\n",
              "      <td>Sales</td>\n",
              "      <td>26</td>\n",
              "      <td>3</td>\n",
              "      <td>Marketing</td>\n",
              "      <td>1</td>\n",
              "      <td>...</td>\n",
              "      <td>4</td>\n",
              "      <td>80</td>\n",
              "      <td>1</td>\n",
              "      <td>23</td>\n",
              "      <td>2</td>\n",
              "      <td>4</td>\n",
              "      <td>20</td>\n",
              "      <td>4</td>\n",
              "      <td>4</td>\n",
              "      <td>8</td>\n",
              "    </tr>\n",
              "    <tr>\n",
              "      <th>4</th>\n",
              "      <td>5</td>\n",
              "      <td>40</td>\n",
              "      <td>NaN</td>\n",
              "      <td>Travel_Rarely</td>\n",
              "      <td>1194</td>\n",
              "      <td>Research &amp; Development</td>\n",
              "      <td>2</td>\n",
              "      <td>4</td>\n",
              "      <td>Medical</td>\n",
              "      <td>1</td>\n",
              "      <td>...</td>\n",
              "      <td>2</td>\n",
              "      <td>80</td>\n",
              "      <td>3</td>\n",
              "      <td>20</td>\n",
              "      <td>2</td>\n",
              "      <td>3</td>\n",
              "      <td>5</td>\n",
              "      <td>3</td>\n",
              "      <td>0</td>\n",
              "      <td>2</td>\n",
              "    </tr>\n",
              "  </tbody>\n",
              "</table>\n",
              "<p>5 rows × 35 columns</p>\n",
              "</div>\n",
              "    <div class=\"colab-df-buttons\">\n",
              "\n",
              "  <div class=\"colab-df-container\">\n",
              "    <button class=\"colab-df-convert\" onclick=\"convertToInteractive('df-e43a7724-108e-42d5-8e52-17f2f635cca8')\"\n",
              "            title=\"Convert this dataframe to an interactive table.\"\n",
              "            style=\"display:none;\">\n",
              "\n",
              "  <svg xmlns=\"http://www.w3.org/2000/svg\" height=\"24px\" viewBox=\"0 -960 960 960\">\n",
              "    <path d=\"M120-120v-720h720v720H120Zm60-500h600v-160H180v160Zm220 220h160v-160H400v160Zm0 220h160v-160H400v160ZM180-400h160v-160H180v160Zm440 0h160v-160H620v160ZM180-180h160v-160H180v160Zm440 0h160v-160H620v160Z\"/>\n",
              "  </svg>\n",
              "    </button>\n",
              "\n",
              "  <style>\n",
              "    .colab-df-container {\n",
              "      display:flex;\n",
              "      gap: 12px;\n",
              "    }\n",
              "\n",
              "    .colab-df-convert {\n",
              "      background-color: #E8F0FE;\n",
              "      border: none;\n",
              "      border-radius: 50%;\n",
              "      cursor: pointer;\n",
              "      display: none;\n",
              "      fill: #1967D2;\n",
              "      height: 32px;\n",
              "      padding: 0 0 0 0;\n",
              "      width: 32px;\n",
              "    }\n",
              "\n",
              "    .colab-df-convert:hover {\n",
              "      background-color: #E2EBFA;\n",
              "      box-shadow: 0px 1px 2px rgba(60, 64, 67, 0.3), 0px 1px 3px 1px rgba(60, 64, 67, 0.15);\n",
              "      fill: #174EA6;\n",
              "    }\n",
              "\n",
              "    .colab-df-buttons div {\n",
              "      margin-bottom: 4px;\n",
              "    }\n",
              "\n",
              "    [theme=dark] .colab-df-convert {\n",
              "      background-color: #3B4455;\n",
              "      fill: #D2E3FC;\n",
              "    }\n",
              "\n",
              "    [theme=dark] .colab-df-convert:hover {\n",
              "      background-color: #434B5C;\n",
              "      box-shadow: 0px 1px 3px 1px rgba(0, 0, 0, 0.15);\n",
              "      filter: drop-shadow(0px 1px 2px rgba(0, 0, 0, 0.3));\n",
              "      fill: #FFFFFF;\n",
              "    }\n",
              "  </style>\n",
              "\n",
              "    <script>\n",
              "      const buttonEl =\n",
              "        document.querySelector('#df-e43a7724-108e-42d5-8e52-17f2f635cca8 button.colab-df-convert');\n",
              "      buttonEl.style.display =\n",
              "        google.colab.kernel.accessAllowed ? 'block' : 'none';\n",
              "\n",
              "      async function convertToInteractive(key) {\n",
              "        const element = document.querySelector('#df-e43a7724-108e-42d5-8e52-17f2f635cca8');\n",
              "        const dataTable =\n",
              "          await google.colab.kernel.invokeFunction('convertToInteractive',\n",
              "                                                    [key], {});\n",
              "        if (!dataTable) return;\n",
              "\n",
              "        const docLinkHtml = 'Like what you see? Visit the ' +\n",
              "          '<a target=\"_blank\" href=https://colab.research.google.com/notebooks/data_table.ipynb>data table notebook</a>'\n",
              "          + ' to learn more about interactive tables.';\n",
              "        element.innerHTML = '';\n",
              "        dataTable['output_type'] = 'display_data';\n",
              "        await google.colab.output.renderOutput(dataTable, element);\n",
              "        const docLink = document.createElement('div');\n",
              "        docLink.innerHTML = docLinkHtml;\n",
              "        element.appendChild(docLink);\n",
              "      }\n",
              "    </script>\n",
              "  </div>\n",
              "\n",
              "\n",
              "    <div id=\"df-a5c1d26a-b2dd-4c0c-835e-c0e653ae3f99\">\n",
              "      <button class=\"colab-df-quickchart\" onclick=\"quickchart('df-a5c1d26a-b2dd-4c0c-835e-c0e653ae3f99')\"\n",
              "                title=\"Suggest charts\"\n",
              "                style=\"display:none;\">\n",
              "\n",
              "<svg xmlns=\"http://www.w3.org/2000/svg\" height=\"24px\"viewBox=\"0 0 24 24\"\n",
              "     width=\"24px\">\n",
              "    <g>\n",
              "        <path d=\"M19 3H5c-1.1 0-2 .9-2 2v14c0 1.1.9 2 2 2h14c1.1 0 2-.9 2-2V5c0-1.1-.9-2-2-2zM9 17H7v-7h2v7zm4 0h-2V7h2v10zm4 0h-2v-4h2v4z\"/>\n",
              "    </g>\n",
              "</svg>\n",
              "      </button>\n",
              "\n",
              "<style>\n",
              "  .colab-df-quickchart {\n",
              "      --bg-color: #E8F0FE;\n",
              "      --fill-color: #1967D2;\n",
              "      --hover-bg-color: #E2EBFA;\n",
              "      --hover-fill-color: #174EA6;\n",
              "      --disabled-fill-color: #AAA;\n",
              "      --disabled-bg-color: #DDD;\n",
              "  }\n",
              "\n",
              "  [theme=dark] .colab-df-quickchart {\n",
              "      --bg-color: #3B4455;\n",
              "      --fill-color: #D2E3FC;\n",
              "      --hover-bg-color: #434B5C;\n",
              "      --hover-fill-color: #FFFFFF;\n",
              "      --disabled-bg-color: #3B4455;\n",
              "      --disabled-fill-color: #666;\n",
              "  }\n",
              "\n",
              "  .colab-df-quickchart {\n",
              "    background-color: var(--bg-color);\n",
              "    border: none;\n",
              "    border-radius: 50%;\n",
              "    cursor: pointer;\n",
              "    display: none;\n",
              "    fill: var(--fill-color);\n",
              "    height: 32px;\n",
              "    padding: 0;\n",
              "    width: 32px;\n",
              "  }\n",
              "\n",
              "  .colab-df-quickchart:hover {\n",
              "    background-color: var(--hover-bg-color);\n",
              "    box-shadow: 0 1px 2px rgba(60, 64, 67, 0.3), 0 1px 3px 1px rgba(60, 64, 67, 0.15);\n",
              "    fill: var(--button-hover-fill-color);\n",
              "  }\n",
              "\n",
              "  .colab-df-quickchart-complete:disabled,\n",
              "  .colab-df-quickchart-complete:disabled:hover {\n",
              "    background-color: var(--disabled-bg-color);\n",
              "    fill: var(--disabled-fill-color);\n",
              "    box-shadow: none;\n",
              "  }\n",
              "\n",
              "  .colab-df-spinner {\n",
              "    border: 2px solid var(--fill-color);\n",
              "    border-color: transparent;\n",
              "    border-bottom-color: var(--fill-color);\n",
              "    animation:\n",
              "      spin 1s steps(1) infinite;\n",
              "  }\n",
              "\n",
              "  @keyframes spin {\n",
              "    0% {\n",
              "      border-color: transparent;\n",
              "      border-bottom-color: var(--fill-color);\n",
              "      border-left-color: var(--fill-color);\n",
              "    }\n",
              "    20% {\n",
              "      border-color: transparent;\n",
              "      border-left-color: var(--fill-color);\n",
              "      border-top-color: var(--fill-color);\n",
              "    }\n",
              "    30% {\n",
              "      border-color: transparent;\n",
              "      border-left-color: var(--fill-color);\n",
              "      border-top-color: var(--fill-color);\n",
              "      border-right-color: var(--fill-color);\n",
              "    }\n",
              "    40% {\n",
              "      border-color: transparent;\n",
              "      border-right-color: var(--fill-color);\n",
              "      border-top-color: var(--fill-color);\n",
              "    }\n",
              "    60% {\n",
              "      border-color: transparent;\n",
              "      border-right-color: var(--fill-color);\n",
              "    }\n",
              "    80% {\n",
              "      border-color: transparent;\n",
              "      border-right-color: var(--fill-color);\n",
              "      border-bottom-color: var(--fill-color);\n",
              "    }\n",
              "    90% {\n",
              "      border-color: transparent;\n",
              "      border-bottom-color: var(--fill-color);\n",
              "    }\n",
              "  }\n",
              "</style>\n",
              "\n",
              "      <script>\n",
              "        async function quickchart(key) {\n",
              "          const quickchartButtonEl =\n",
              "            document.querySelector('#' + key + ' button');\n",
              "          quickchartButtonEl.disabled = true;  // To prevent multiple clicks.\n",
              "          quickchartButtonEl.classList.add('colab-df-spinner');\n",
              "          try {\n",
              "            const charts = await google.colab.kernel.invokeFunction(\n",
              "                'suggestCharts', [key], {});\n",
              "          } catch (error) {\n",
              "            console.error('Error during call to suggestCharts:', error);\n",
              "          }\n",
              "          quickchartButtonEl.classList.remove('colab-df-spinner');\n",
              "          quickchartButtonEl.classList.add('colab-df-quickchart-complete');\n",
              "        }\n",
              "        (() => {\n",
              "          let quickchartButtonEl =\n",
              "            document.querySelector('#df-a5c1d26a-b2dd-4c0c-835e-c0e653ae3f99 button');\n",
              "          quickchartButtonEl.style.display =\n",
              "            google.colab.kernel.accessAllowed ? 'block' : 'none';\n",
              "        })();\n",
              "      </script>\n",
              "    </div>\n",
              "\n",
              "    </div>\n",
              "  </div>\n"
            ],
            "text/plain": [
              "   EmployeeId  Age  Attrition     BusinessTravel  DailyRate  \\\n",
              "0           1   38        NaN  Travel_Frequently       1444   \n",
              "1           2   37        1.0      Travel_Rarely       1141   \n",
              "2           3   51        1.0      Travel_Rarely       1323   \n",
              "3           4   42        0.0  Travel_Frequently        555   \n",
              "4           5   40        NaN      Travel_Rarely       1194   \n",
              "\n",
              "               Department  DistanceFromHome  Education EducationField  \\\n",
              "0         Human Resources                 1          4          Other   \n",
              "1  Research & Development                11          2        Medical   \n",
              "2  Research & Development                 4          4  Life Sciences   \n",
              "3                   Sales                26          3      Marketing   \n",
              "4  Research & Development                 2          4        Medical   \n",
              "\n",
              "   EmployeeCount  ...  RelationshipSatisfaction StandardHours  \\\n",
              "0              1  ...                         2            80   \n",
              "1              1  ...                         1            80   \n",
              "2              1  ...                         3            80   \n",
              "3              1  ...                         4            80   \n",
              "4              1  ...                         2            80   \n",
              "\n",
              "   StockOptionLevel  TotalWorkingYears  TrainingTimesLastYear WorkLifeBalance  \\\n",
              "0                 1                  7                      2               3   \n",
              "1                 0                 15                      2               1   \n",
              "2                 3                 18                      2               4   \n",
              "3                 1                 23                      2               4   \n",
              "4                 3                 20                      2               3   \n",
              "\n",
              "   YearsAtCompany YearsInCurrentRole  YearsSinceLastPromotion  \\\n",
              "0               6                  2                        1   \n",
              "1               1                  0                        0   \n",
              "2              10                  0                        2   \n",
              "3              20                  4                        4   \n",
              "4               5                  3                        0   \n",
              "\n",
              "   YearsWithCurrManager  \n",
              "0                     2  \n",
              "1                     0  \n",
              "2                     7  \n",
              "3                     8  \n",
              "4                     2  \n",
              "\n",
              "[5 rows x 35 columns]"
            ]
          },
          "execution_count": 4,
          "metadata": {},
          "output_type": "execute_result"
        }
      ],
      "source": [
        "df.head()"
      ]
    },
    {
      "cell_type": "markdown",
      "metadata": {
        "id": "Qkbf3VA6Tsdy"
      },
      "source": [
        "## Data Understanding"
      ]
    },
    {
      "cell_type": "code",
      "execution_count": 5,
      "metadata": {
        "colab": {
          "base_uri": "https://localhost:8080/"
        },
        "id": "be6FhCzoTsdy",
        "outputId": "f2ae5c36-7086-4a94-fc4a-ba2cff7cabdf",
        "trusted": true
      },
      "outputs": [
        {
          "name": "stdout",
          "output_type": "stream",
          "text": [
            "<class 'pandas.core.frame.DataFrame'>\n",
            "RangeIndex: 1470 entries, 0 to 1469\n",
            "Data columns (total 35 columns):\n",
            " #   Column                    Non-Null Count  Dtype  \n",
            "---  ------                    --------------  -----  \n",
            " 0   EmployeeId                1470 non-null   int64  \n",
            " 1   Age                       1470 non-null   int64  \n",
            " 2   Attrition                 1058 non-null   float64\n",
            " 3   BusinessTravel            1470 non-null   object \n",
            " 4   DailyRate                 1470 non-null   int64  \n",
            " 5   Department                1470 non-null   object \n",
            " 6   DistanceFromHome          1470 non-null   int64  \n",
            " 7   Education                 1470 non-null   int64  \n",
            " 8   EducationField            1470 non-null   object \n",
            " 9   EmployeeCount             1470 non-null   int64  \n",
            " 10  EnvironmentSatisfaction   1470 non-null   int64  \n",
            " 11  Gender                    1470 non-null   object \n",
            " 12  HourlyRate                1470 non-null   int64  \n",
            " 13  JobInvolvement            1470 non-null   int64  \n",
            " 14  JobLevel                  1470 non-null   int64  \n",
            " 15  JobRole                   1470 non-null   object \n",
            " 16  JobSatisfaction           1470 non-null   int64  \n",
            " 17  MaritalStatus             1470 non-null   object \n",
            " 18  MonthlyIncome             1470 non-null   int64  \n",
            " 19  MonthlyRate               1470 non-null   int64  \n",
            " 20  NumCompaniesWorked        1470 non-null   int64  \n",
            " 21  Over18                    1470 non-null   object \n",
            " 22  OverTime                  1470 non-null   object \n",
            " 23  PercentSalaryHike         1470 non-null   int64  \n",
            " 24  PerformanceRating         1470 non-null   int64  \n",
            " 25  RelationshipSatisfaction  1470 non-null   int64  \n",
            " 26  StandardHours             1470 non-null   int64  \n",
            " 27  StockOptionLevel          1470 non-null   int64  \n",
            " 28  TotalWorkingYears         1470 non-null   int64  \n",
            " 29  TrainingTimesLastYear     1470 non-null   int64  \n",
            " 30  WorkLifeBalance           1470 non-null   int64  \n",
            " 31  YearsAtCompany            1470 non-null   int64  \n",
            " 32  YearsInCurrentRole        1470 non-null   int64  \n",
            " 33  YearsSinceLastPromotion   1470 non-null   int64  \n",
            " 34  YearsWithCurrManager      1470 non-null   int64  \n",
            "dtypes: float64(1), int64(26), object(8)\n",
            "memory usage: 402.1+ KB\n"
          ]
        }
      ],
      "source": [
        "df.info()"
      ]
    },
    {
      "cell_type": "markdown",
      "metadata": {
        "id": "o7Znnc29Tsdy"
      },
      "source": [
        "The data contains demographic details, work-related metrics and attrition flag.\n",
        "\n",
        "* **EmployeeId** - Employee Identifier\n",
        "* **Attrition** - Did the employee attrition? (0=no, 1=yes)\n",
        "* **Age** - Age of the employee\n",
        "* **BusinessTravel** - Travel commitments for the job\n",
        "* **DailyRate** - Daily salary\n",
        "* **Department** - Employee Department\n",
        "* **DistanceFromHome** - Distance from work to home (in km)\n",
        "* **Education** - 1-Below College, 2-College, 3-Bachelor, 4-Master,5-Doctor\n",
        "* **EducationField** - Field of Education\n",
        "* **EnvironmentSatisfaction** - 1-Low, 2-Medium, 3-High, 4-Very High\n",
        "* **Gender** - Employee's gender\n",
        "* **HourlyRate** - Hourly salary\n",
        "* **JobInvolvement** - 1-Low, 2-Medium, 3-High, 4-Very High\n",
        "* **JobLevel** - Level of job (1 to 5)\n",
        "* **JobRole** - Job Roles\n",
        "* **JobSatisfaction** - 1-Low, 2-Medium, 3-High, 4-Very High\n",
        "* **MaritalStatus** - Marital Status\n",
        "* **MonthlyIncome** - Monthly salary\n",
        "* **MonthlyRate** - Mounthly rate\n",
        "* **NumCompaniesWorked** - Number of companies worked at\n",
        "* **Over18** - Over 18 years of age?\n",
        "* **OverTime** - Overtime?\n",
        "* **PercentSalaryHike** - The percentage increase in salary last year\n",
        "* **PerformanceRating** - 1-Low, 2-Good, 3-Excellent, 4-Outstanding\n",
        "* **RelationshipSatisfaction** - 1-Low, 2-Medium, 3-High, 4-Very High\n",
        "* **StandardHours** - Standard Hours\n",
        "* **StockOptionLevel** - Stock Option Level\n",
        "* **TotalWorkingYears** - Total years worked\n",
        "* **TrainingTimesLastYear** - Number of training attended last year\n",
        "* **WorkLifeBalance** - 1-Low, 2-Good, 3-Excellent, 4-Outstanding\n",
        "* **YearsAtCompany** - Years at Company\n",
        "* **YearsInCurrentRole** - Years in the current role\n",
        "* **YearsSinceLastPromotion** - Years since the last promotion\n",
        "* **YearsWithCurrManager** - Years with the current manager\n"
      ]
    },
    {
      "cell_type": "markdown",
      "metadata": {
        "id": "70r747QqTsdy"
      },
      "source": [
        "## Data Cleaning"
      ]
    },
    {
      "cell_type": "code",
      "execution_count": 6,
      "metadata": {
        "colab": {
          "base_uri": "https://localhost:8080/"
        },
        "id": "ly2fkSNPTsdz",
        "outputId": "2a41e4cd-3bbd-4af0-cda9-ed2febda02fd",
        "trusted": true
      },
      "outputs": [
        {
          "name": "stdout",
          "output_type": "stream",
          "text": [
            "Jumlah duplikasi:  0\n"
          ]
        }
      ],
      "source": [
        "duplicate_count = df.duplicated().sum()\n",
        "print(\"Jumlah duplikasi: \", duplicate_count)"
      ]
    },
    {
      "cell_type": "markdown",
      "metadata": {
        "id": "Lhc6DyjQTsdz"
      },
      "source": [
        "### Penghapusan Nilai Nan pada Kolom Attrition"
      ]
    },
    {
      "cell_type": "code",
      "execution_count": 7,
      "metadata": {
        "colab": {
          "base_uri": "https://localhost:8080/"
        },
        "id": "BMtUG3ztTsdz",
        "outputId": "549f61ef-741d-426d-eaff-6f3f73936a88",
        "trusted": true
      },
      "outputs": [
        {
          "data": {
            "text/plain": [
              "np.int64(412)"
            ]
          },
          "execution_count": 7,
          "metadata": {},
          "output_type": "execute_result"
        }
      ],
      "source": [
        "df['Attrition'].isna().sum()"
      ]
    },
    {
      "cell_type": "code",
      "execution_count": 8,
      "metadata": {
        "id": "zhMEyfknTsdz",
        "trusted": true
      },
      "outputs": [],
      "source": [
        "df_cleaned = df.dropna(subset=['Attrition'])"
      ]
    },
    {
      "cell_type": "code",
      "execution_count": 9,
      "metadata": {
        "colab": {
          "base_uri": "https://localhost:8080/"
        },
        "id": "uum660BKTsdz",
        "outputId": "3a67b314-1a33-4268-8648-d55a79e9341d",
        "trusted": true
      },
      "outputs": [
        {
          "name": "stdout",
          "output_type": "stream",
          "text": [
            "\n",
            "Jumlah nilai kosong pada kolom Attrition setelah pembersihan:\n",
            "0\n"
          ]
        }
      ],
      "source": [
        "print(\"\\nJumlah nilai kosong pada kolom Attrition setelah pembersihan:\")\n",
        "print(df_cleaned['Attrition'].isna().sum())"
      ]
    },
    {
      "cell_type": "markdown",
      "metadata": {
        "id": "zsoxW8M1Tsdz"
      },
      "source": [
        "## EDA"
      ]
    },
    {
      "cell_type": "code",
      "execution_count": 10,
      "metadata": {
        "colab": {
          "base_uri": "https://localhost:8080/"
        },
        "id": "5gO1FxZRTsdz",
        "outputId": "2d5338ba-9e73-4c82-a501-a95be9f8979f",
        "trusted": true
      },
      "outputs": [
        {
          "name": "stdout",
          "output_type": "stream",
          "text": [
            "Distribusi Attrition:\n",
            "Attrition\n",
            "0.0    83.081285\n",
            "1.0    16.918715\n",
            "Name: proportion, dtype: float64\n"
          ]
        }
      ],
      "source": [
        "print(\"Distribusi Attrition:\")\n",
        "print(df_cleaned['Attrition'].value_counts(normalize=True) * 100)"
      ]
    },
    {
      "cell_type": "code",
      "execution_count": 11,
      "metadata": {
        "colab": {
          "base_uri": "https://localhost:8080/",
          "height": 410
        },
        "id": "8IV1rLTsTsdz",
        "outputId": "cfe4377a-bbcc-4779-9da9-3c5ac170dce8",
        "trusted": true
      },
      "outputs": [
        {
          "data": {
            "image/png": "[encoded data removed]",
            "text/plain": [
              "<Figure size 600x400 with 1 Axes>"
            ]
          },
          "metadata": {},
          "output_type": "display_data"
        }
      ],
      "source": [
        "# Visualisasi distribusi Attrition\n",
        "plt.figure(figsize=(6, 4))\n",
        "sns.countplot(x='Attrition', data=df_cleaned)\n",
        "plt.title('Distribusi Attrition')\n",
        "plt.xlabel('Attrition (0 = Bertahan, 1 = Keluar)')\n",
        "plt.ylabel('Jumlah Karyawan')\n",
        "plt.show()"
      ]
    },
    {
      "cell_type": "code",
      "execution_count": 12,
      "metadata": {
        "colab": {
          "base_uri": "https://localhost:8080/",
          "height": 564
        },
        "id": "PfNhbx9OTsd0",
        "outputId": "e014a6f4-688a-497b-f35c-2946c19961bd",
        "trusted": true
      },
      "outputs": [
        {
          "data": {
            "image/png": "[encoded data removed]",
            "text/plain": [
              "<Figure size 1000x600 with 1 Axes>"
            ]
          },
          "metadata": {},
          "output_type": "display_data"
        }
      ],
      "source": [
        "# Visualisasi distribusi usia berdasarkan Attrition\n",
        "plt.figure(figsize=(10, 6))\n",
        "sns.histplot(data=df_cleaned, x='Age', hue='Attrition', multiple='stack', bins=30)\n",
        "plt.title('Distribusi Usia berdasarkan Attrition')\n",
        "plt.show()"
      ]
    },
    {
      "cell_type": "code",
      "execution_count": 13,
      "metadata": {
        "colab": {
          "base_uri": "https://localhost:8080/",
          "height": 564
        },
        "id": "M303M9fiTsd0",
        "outputId": "984f1e2b-160a-4bec-c4f1-f416f500a564",
        "trusted": true
      },
      "outputs": [
        {
          "data": {
            "image/png": "[encoded data removed]",
            "text/plain": [
              "<Figure size 1000x600 with 1 Axes>"
            ]
          },
          "metadata": {},
          "output_type": "display_data"
        }
      ],
      "source": [
        "# Visualisasi hubungan antara DistanceFromHome dan Attrition\n",
        "plt.figure(figsize=(10, 6))\n",
        "sns.boxplot(x='Attrition', y='DistanceFromHome', data=df_cleaned)\n",
        "plt.title('Jarak dari Rumah vs Attrition')\n",
        "plt.show()"
      ]
    },
    {
      "cell_type": "code",
      "execution_count": 14,
      "metadata": {
        "colab": {
          "base_uri": "https://localhost:8080/",
          "height": 564
        },
        "id": "yqIy2TqCTsd0",
        "outputId": "ea6cd649-37f9-4d69-9e3c-2cb652703f2c",
        "trusted": true
      },
      "outputs": [
        {
          "data": {
            "image/png": "[encoded data removed]",
            "text/plain": [
              "<Figure size 1000x600 with 1 Axes>"
            ]
          },
          "metadata": {},
          "output_type": "display_data"
        }
      ],
      "source": [
        "# Visualisasi hubungan antara JobSatisfaction dan Attrition\n",
        "plt.figure(figsize=(10, 6))\n",
        "sns.countplot(x='JobSatisfaction', hue='Attrition', data=df_cleaned)\n",
        "plt.title('Kepuasan Kerja vs Attrition')\n",
        "plt.show()"
      ]
    },
    {
      "cell_type": "code",
      "execution_count": 15,
      "metadata": {
        "colab": {
          "base_uri": "https://localhost:8080/",
          "height": 1000
        },
        "id": "S3kGqK-_Tsd0",
        "outputId": "8616bad3-c7a8-4333-8adf-4056f2bac150",
        "trusted": true
      },
      "outputs": [
        {
          "data": {
            "image/png": "[encoded data removed]",
            "text/plain": [
              "<Figure size 2400x1600 with 2 Axes>"
            ]
          },
          "metadata": {},
          "output_type": "display_data"
        }
      ],
      "source": [
        "# Korelasi antar variabel numerik\n",
        "plt.figure(figsize=(24, 16))\n",
        "numeric_cols = df_cleaned.select_dtypes(include=['int64', 'float64']).columns\n",
        "corr = df[numeric_cols].corr()\n",
        "sns.heatmap(corr, annot=False, cmap='coolwarm')\n",
        "plt.title('Matriks Korelasi')\n",
        "plt.show()"
      ]
    },
    {
      "cell_type": "markdown",
      "metadata": {
        "id": "OFW8P8P6Tsd0"
      },
      "source": [
        "## Data Preparation / Preprocessing"
      ]
    },
    {
      "cell_type": "code",
      "execution_count": 16,
      "metadata": {
        "colab": {
          "base_uri": "https://localhost:8080/"
        },
        "id": "MmcF-w6fTsd0",
        "outputId": "1864b690-84c8-47a1-9681-71d1a75b3061",
        "trusted": true
      },
      "outputs": [
        {
          "name": "stderr",
          "output_type": "stream",
          "text": [
            "<ipython-input-16-c1839f81a6e2>:5: SettingWithCopyWarning: \n",
            "A value is trying to be set on a copy of a slice from a DataFrame.\n",
            "Try using .loc[row_indexer,col_indexer] = value instead\n",
            "\n",
            "See the caveats in the documentation: https://pandas.pydata.org/pandas-docs/stable/user_guide/indexing.html#returning-a-view-versus-a-copy\n",
            "  df_cleaned[col] = le.fit_transform(df_cleaned[col])\n",
            "<ipython-input-16-c1839f81a6e2>:5: SettingWithCopyWarning: \n",
            "A value is trying to be set on a copy of a slice from a DataFrame.\n",
            "Try using .loc[row_indexer,col_indexer] = value instead\n",
            "\n",
            "See the caveats in the documentation: https://pandas.pydata.org/pandas-docs/stable/user_guide/indexing.html#returning-a-view-versus-a-copy\n",
            "  df_cleaned[col] = le.fit_transform(df_cleaned[col])\n",
            "<ipython-input-16-c1839f81a6e2>:5: SettingWithCopyWarning: \n",
            "A value is trying to be set on a copy of a slice from a DataFrame.\n",
            "Try using .loc[row_indexer,col_indexer] = value instead\n",
            "\n",
            "See the caveats in the documentation: https://pandas.pydata.org/pandas-docs/stable/user_guide/indexing.html#returning-a-view-versus-a-copy\n",
            "  df_cleaned[col] = le.fit_transform(df_cleaned[col])\n",
            "<ipython-input-16-c1839f81a6e2>:5: SettingWithCopyWarning: \n",
            "A value is trying to be set on a copy of a slice from a DataFrame.\n",
            "Try using .loc[row_indexer,col_indexer] = value instead\n",
            "\n",
            "See the caveats in the documentation: https://pandas.pydata.org/pandas-docs/stable/user_guide/indexing.html#returning-a-view-versus-a-copy\n",
            "  df_cleaned[col] = le.fit_transform(df_cleaned[col])\n",
            "<ipython-input-16-c1839f81a6e2>:5: SettingWithCopyWarning: \n",
            "A value is trying to be set on a copy of a slice from a DataFrame.\n",
            "Try using .loc[row_indexer,col_indexer] = value instead\n",
            "\n",
            "See the caveats in the documentation: https://pandas.pydata.org/pandas-docs/stable/user_guide/indexing.html#returning-a-view-versus-a-copy\n",
            "  df_cleaned[col] = le.fit_transform(df_cleaned[col])\n",
            "<ipython-input-16-c1839f81a6e2>:5: SettingWithCopyWarning: \n",
            "A value is trying to be set on a copy of a slice from a DataFrame.\n",
            "Try using .loc[row_indexer,col_indexer] = value instead\n",
            "\n",
            "See the caveats in the documentation: https://pandas.pydata.org/pandas-docs/stable/user_guide/indexing.html#returning-a-view-versus-a-copy\n",
            "  df_cleaned[col] = le.fit_transform(df_cleaned[col])\n",
            "<ipython-input-16-c1839f81a6e2>:5: SettingWithCopyWarning: \n",
            "A value is trying to be set on a copy of a slice from a DataFrame.\n",
            "Try using .loc[row_indexer,col_indexer] = value instead\n",
            "\n",
            "See the caveats in the documentation: https://pandas.pydata.org/pandas-docs/stable/user_guide/indexing.html#returning-a-view-versus-a-copy\n",
            "  df_cleaned[col] = le.fit_transform(df_cleaned[col])\n",
            "<ipython-input-16-c1839f81a6e2>:5: SettingWithCopyWarning: \n",
            "A value is trying to be set on a copy of a slice from a DataFrame.\n",
            "Try using .loc[row_indexer,col_indexer] = value instead\n",
            "\n",
            "See the caveats in the documentation: https://pandas.pydata.org/pandas-docs/stable/user_guide/indexing.html#returning-a-view-versus-a-copy\n",
            "  df_cleaned[col] = le.fit_transform(df_cleaned[col])\n"
          ]
        }
      ],
      "source": [
        "# Mengencode variabel kategorikal\n",
        "cat_cols = df_cleaned.select_dtypes(include=['object']).columns\n",
        "le = LabelEncoder()\n",
        "for col in cat_cols:\n",
        "    df_cleaned[col] = le.fit_transform(df_cleaned[col])"
      ]
    },
    {
      "cell_type": "code",
      "execution_count": 17,
      "metadata": {
        "id": "p1nDV-x2Tsd0",
        "trusted": true
      },
      "outputs": [],
      "source": [
        "# Memisahkan fitur dan target\n",
        "X = df_cleaned.drop(['Attrition', 'EmployeeId', 'EmployeeCount', 'StandardHours', 'Over18'], axis=1)  # Kolom tidak relevan dihapus\n",
        "y = df_cleaned['Attrition']"
      ]
    },
    {
      "cell_type": "code",
      "execution_count": 18,
      "metadata": {
        "colab": {
          "base_uri": "https://localhost:8080/"
        },
        "id": "24P5EyIeTsd0",
        "outputId": "f99fc6ed-255e-417e-b423-4ee69adf34e5",
        "trusted": true
      },
      "outputs": [
        {
          "name": "stdout",
          "output_type": "stream",
          "text": [
            "\n",
            "VIF untuk Fitur:\n",
            "              Feature         VIF\n",
            "0                 Age   32.714948\n",
            "3          Department   13.246951\n",
            "9          HourlyRate   11.202156\n",
            "10     JobInvolvement   15.950251\n",
            "11           JobLevel   56.034068\n",
            "15      MonthlyIncome   34.590362\n",
            "19  PercentSalaryHike   42.605382\n",
            "20  PerformanceRating  123.441612\n",
            "23  TotalWorkingYears   15.106716\n",
            "25    WorkLifeBalance   15.572771\n",
            "26     YearsAtCompany   10.441345\n"
          ]
        }
      ],
      "source": [
        "# Periksa multicollinearity dengan VIF\n",
        "vif = pd.DataFrame()\n",
        "vif[\"Feature\"] = X.columns\n",
        "vif[\"VIF\"] = [variance_inflation_factor(X.values, i) for i in range(X.shape[1])]\n",
        "print(\"\\nVIF untuk Fitur:\")\n",
        "print(vif[vif['VIF'] > 10])  # Fitur dengan VIF > 10 mungkin berkorelasi tinggi"
      ]
    },
    {
      "cell_type": "code",
      "execution_count": 19,
      "metadata": {
        "id": "I8Eq2A0ZTsd0",
        "trusted": true
      },
      "outputs": [],
      "source": [
        "# Normalisasi fitur numerik\n",
        "scaler = StandardScaler()\n",
        "X = scaler.fit_transform(X)"
      ]
    },
    {
      "cell_type": "code",
      "execution_count": 20,
      "metadata": {
        "id": "AazZI34KTsd1",
        "trusted": true
      },
      "outputs": [],
      "source": [
        "# Membagi data menjadi training dan testing\n",
        "X_train, X_test, y_train, y_test = train_test_split(X, y, test_size=0.2, random_state=42)"
      ]
    },
    {
      "cell_type": "code",
      "execution_count": 21,
      "metadata": {
        "colab": {
          "base_uri": "https://localhost:8080/"
        },
        "id": "BbILYWLJTsd1",
        "outputId": "24fa2c43-1b9c-461a-ecaa-29b415b6d7fd",
        "trusted": true
      },
      "outputs": [
        {
          "name": "stdout",
          "output_type": "stream",
          "text": [
            "\n",
            "Distribusi kelas sebelum SMOTE:\n",
            "Attrition\n",
            "0.0    706\n",
            "1.0    140\n",
            "Name: count, dtype: int64\n",
            "\n",
            "Distribusi kelas setelah Borderline-SMOTE:\n",
            "Attrition\n",
            "0.0    706\n",
            "1.0    706\n",
            "Name: count, dtype: int64\n"
          ]
        }
      ],
      "source": [
        "\n",
        "# Terapkan Borderline-SMOTE untuk oversampling\n",
        "print(\"\\nDistribusi kelas sebelum SMOTE:\")\n",
        "print(y_train.value_counts())\n",
        "\n",
        "smote = BorderlineSMOTE(random_state=42, k_neighbors=3)\n",
        "X_train_res, y_train_res = smote.fit_resample(X_train, y_train)\n",
        "\n",
        "print(\"\\nDistribusi kelas setelah Borderline-SMOTE:\")\n",
        "print(pd.Series(y_train_res).value_counts())"
      ]
    },
    {
      "cell_type": "markdown",
      "metadata": {
        "id": "3OdOs-EITsd1"
      },
      "source": [
        "## Modeling"
      ]
    },
    {
      "cell_type": "code",
      "execution_count": 22,
      "metadata": {
        "colab": {
          "base_uri": "https://localhost:8080/",
          "height": 184
        },
        "id": "O5KQBUsmTsd1",
        "outputId": "86e5b9b3-b670-46bd-a780-53b8d12a3d70",
        "trusted": true
      },
      "outputs": [
        {
          "name": "stdout",
          "output_type": "stream",
          "text": [
            "Fitting 5 folds for each of 20 candidates, totalling 100 fits\n"
          ]
        },
        {
          "data": {
            "text/html": [
              "<style>#sk-container-id-1 {\n",
              "  /* Definition of color scheme common for light and dark mode */\n",
              "  --sklearn-color-text: #000;\n",
              "  --sklearn-color-text-muted: #666;\n",
              "  --sklearn-color-line: gray;\n",
              "  /* Definition of color scheme for unfitted estimators */\n",
              "  --sklearn-color-unfitted-level-0: #fff5e6;\n",
              "  --sklearn-color-unfitted-level-1: #f6e4d2;\n",
              "  --sklearn-color-unfitted-level-2: #ffe0b3;\n",
              "  --sklearn-color-unfitted-level-3: chocolate;\n",
              "  /* Definition of color scheme for fitted estimators */\n",
              "  --sklearn-color-fitted-level-0: #f0f8ff;\n",
              "  --sklearn-color-fitted-level-1: #d4ebff;\n",
              "  --sklearn-color-fitted-level-2: #b3dbfd;\n",
              "  --sklearn-color-fitted-level-3: cornflowerblue;\n",
              "\n",
              "  /* Specific color for light theme */\n",
              "  --sklearn-color-text-on-default-background: var(--sg-text-color, var(--theme-code-foreground, var(--jp-content-font-color1, black)));\n",
              "  --sklearn-color-background: var(--sg-background-color, var(--theme-background, var(--jp-layout-color0, white)));\n",
              "  --sklearn-color-border-box: var(--sg-text-color, var(--theme-code-foreground, var(--jp-content-font-color1, black)));\n",
              "  --sklearn-color-icon: #696969;\n",
              "\n",
              "  @media (prefers-color-scheme: dark) {\n",
              "    /* Redefinition of color scheme for dark theme */\n",
              "    --sklearn-color-text-on-default-background: var(--sg-text-color, var(--theme-code-foreground, var(--jp-content-font-color1, white)));\n",
              "    --sklearn-color-background: var(--sg-background-color, var(--theme-background, var(--jp-layout-color0, #111)));\n",
              "    --sklearn-color-border-box: var(--sg-text-color, var(--theme-code-foreground, var(--jp-content-font-color1, white)));\n",
              "    --sklearn-color-icon: #878787;\n",
              "  }\n",
              "}\n",
              "\n",
              "#sk-container-id-1 {\n",
              "  color: var(--sklearn-color-text);\n",
              "}\n",
              "\n",
              "#sk-container-id-1 pre {\n",
              "  padding: 0;\n",
              "}\n",
              "\n",
              "#sk-container-id-1 input.sk-hidden--visually {\n",
              "  border: 0;\n",
              "  clip: rect(1px 1px 1px 1px);\n",
              "  clip: rect(1px, 1px, 1px, 1px);\n",
              "  height: 1px;\n",
              "  margin: -1px;\n",
              "  overflow: hidden;\n",
              "  padding: 0;\n",
              "  position: absolute;\n",
              "  width: 1px;\n",
              "}\n",
              "\n",
              "#sk-container-id-1 div.sk-dashed-wrapped {\n",
              "  border: 1px dashed var(--sklearn-color-line);\n",
              "  margin: 0 0.4em 0.5em 0.4em;\n",
              "  box-sizing: border-box;\n",
              "  padding-bottom: 0.4em;\n",
              "  background-color: var(--sklearn-color-background);\n",
              "}\n",
              "\n",
              "#sk-container-id-1 div.sk-container {\n",
              "  /* jupyter's `normalize.less` sets `[hidden] { display: none; }`\n",
              "     but bootstrap.min.css set `[hidden] { display: none !important; }`\n",
              "     so we also need the `!important` here to be able to override the\n",
              "     default hidden behavior on the sphinx rendered scikit-learn.org.\n",
              "     See: https://github.com/scikit-learn/scikit-learn/issues/21755 */\n",
              "  display: inline-block !important;\n",
              "  position: relative;\n",
              "}\n",
              "\n",
              "#sk-container-id-1 div.sk-text-repr-fallback {\n",
              "  display: none;\n",
              "}\n",
              "\n",
              "div.sk-parallel-item,\n",
              "div.sk-serial,\n",
              "div.sk-item {\n",
              "  /* draw centered vertical line to link estimators */\n",
              "  background-image: linear-gradient(var(--sklearn-color-text-on-default-background), var(--sklearn-color-text-on-default-background));\n",
              "  background-size: 2px 100%;\n",
              "  background-repeat: no-repeat;\n",
              "  background-position: center center;\n",
              "}\n",
              "\n",
              "/* Parallel-specific style estimator block */\n",
              "\n",
              "#sk-container-id-1 div.sk-parallel-item::after {\n",
              "  content: \"\";\n",
              "  width: 100%;\n",
              "  border-bottom: 2px solid var(--sklearn-color-text-on-default-background);\n",
              "  flex-grow: 1;\n",
              "}\n",
              "\n",
              "#sk-container-id-1 div.sk-parallel {\n",
              "  display: flex;\n",
              "  align-items: stretch;\n",
              "  justify-content: center;\n",
              "  background-color: var(--sklearn-color-background);\n",
              "  position: relative;\n",
              "}\n",
              "\n",
              "#sk-container-id-1 div.sk-parallel-item {\n",
              "  display: flex;\n",
              "  flex-direction: column;\n",
              "}\n",
              "\n",
              "#sk-container-id-1 div.sk-parallel-item:first-child::after {\n",
              "  align-self: flex-end;\n",
              "  width: 50%;\n",
              "}\n",
              "\n",
              "#sk-container-id-1 div.sk-parallel-item:last-child::after {\n",
              "  align-self: flex-start;\n",
              "  width: 50%;\n",
              "}\n",
              "\n",
              "#sk-container-id-1 div.sk-parallel-item:only-child::after {\n",
              "  width: 0;\n",
              "}\n",
              "\n",
              "/* Serial-specific style estimator block */\n",
              "\n",
              "#sk-container-id-1 div.sk-serial {\n",
              "  display: flex;\n",
              "  flex-direction: column;\n",
              "  align-items: center;\n",
              "  background-color: var(--sklearn-color-background);\n",
              "  padding-right: 1em;\n",
              "  padding-left: 1em;\n",
              "}\n",
              "\n",
              "\n",
              "/* Toggleable style: style used for estimator/Pipeline/ColumnTransformer box that is\n",
              "clickable and can be expanded/collapsed.\n",
              "- Pipeline and ColumnTransformer use this feature and define the default style\n",
              "- Estimators will overwrite some part of the style using the `sk-estimator` class\n",
              "*/\n",
              "\n",
              "/* Pipeline and ColumnTransformer style (default) */\n",
              "\n",
              "#sk-container-id-1 div.sk-toggleable {\n",
              "  /* Default theme specific background. It is overwritten whether we have a\n",
              "  specific estimator or a Pipeline/ColumnTransformer */\n",
              "  background-color: var(--sklearn-color-background);\n",
              "}\n",
              "\n",
              "/* Toggleable label */\n",
              "#sk-container-id-1 label.sk-toggleable__label {\n",
              "  cursor: pointer;\n",
              "  display: flex;\n",
              "  width: 100%;\n",
              "  margin-bottom: 0;\n",
              "  padding: 0.5em;\n",
              "  box-sizing: border-box;\n",
              "  text-align: center;\n",
              "  align-items: start;\n",
              "  justify-content: space-between;\n",
              "  gap: 0.5em;\n",
              "}\n",
              "\n",
              "#sk-container-id-1 label.sk-toggleable__label .caption {\n",
              "  font-size: 0.6rem;\n",
              "  font-weight: lighter;\n",
              "  color: var(--sklearn-color-text-muted);\n",
              "}\n",
              "\n",
              "#sk-container-id-1 label.sk-toggleable__label-arrow:before {\n",
              "  /* Arrow on the left of the label */\n",
              "  content: \"▸\";\n",
              "  float: left;\n",
              "  margin-right: 0.25em;\n",
              "  color: var(--sklearn-color-icon);\n",
              "}\n",
              "\n",
              "#sk-container-id-1 label.sk-toggleable__label-arrow:hover:before {\n",
              "  color: var(--sklearn-color-text);\n",
              "}\n",
              "\n",
              "/* Toggleable content - dropdown */\n",
              "\n",
              "#sk-container-id-1 div.sk-toggleable__content {\n",
              "  max-height: 0;\n",
              "  max-width: 0;\n",
              "  overflow: hidden;\n",
              "  text-align: left;\n",
              "  /* unfitted */\n",
              "  background-color: var(--sklearn-color-unfitted-level-0);\n",
              "}\n",
              "\n",
              "#sk-container-id-1 div.sk-toggleable__content.fitted {\n",
              "  /* fitted */\n",
              "  background-color: var(--sklearn-color-fitted-level-0);\n",
              "}\n",
              "\n",
              "#sk-container-id-1 div.sk-toggleable__content pre {\n",
              "  margin: 0.2em;\n",
              "  border-radius: 0.25em;\n",
              "  color: var(--sklearn-color-text);\n",
              "  /* unfitted */\n",
              "  background-color: var(--sklearn-color-unfitted-level-0);\n",
              "}\n",
              "\n",
              "#sk-container-id-1 div.sk-toggleable__content.fitted pre {\n",
              "  /* unfitted */\n",
              "  background-color: var(--sklearn-color-fitted-level-0);\n",
              "}\n",
              "\n",
              "#sk-container-id-1 input.sk-toggleable__control:checked~div.sk-toggleable__content {\n",
              "  /* Expand drop-down */\n",
              "  max-height: 200px;\n",
              "  max-width: 100%;\n",
              "  overflow: auto;\n",
              "}\n",
              "\n",
              "#sk-container-id-1 input.sk-toggleable__control:checked~label.sk-toggleable__label-arrow:before {\n",
              "  content: \"▾\";\n",
              "}\n",
              "\n",
              "/* Pipeline/ColumnTransformer-specific style */\n",
              "\n",
              "#sk-container-id-1 div.sk-label input.sk-toggleable__control:checked~label.sk-toggleable__label {\n",
              "  color: var(--sklearn-color-text);\n",
              "  background-color: var(--sklearn-color-unfitted-level-2);\n",
              "}\n",
              "\n",
              "#sk-container-id-1 div.sk-label.fitted input.sk-toggleable__control:checked~label.sk-toggleable__label {\n",
              "  background-color: var(--sklearn-color-fitted-level-2);\n",
              "}\n",
              "\n",
              "/* Estimator-specific style */\n",
              "\n",
              "/* Colorize estimator box */\n",
              "#sk-container-id-1 div.sk-estimator input.sk-toggleable__control:checked~label.sk-toggleable__label {\n",
              "  /* unfitted */\n",
              "  background-color: var(--sklearn-color-unfitted-level-2);\n",
              "}\n",
              "\n",
              "#sk-container-id-1 div.sk-estimator.fitted input.sk-toggleable__control:checked~label.sk-toggleable__label {\n",
              "  /* fitted */\n",
              "  background-color: var(--sklearn-color-fitted-level-2);\n",
              "}\n",
              "\n",
              "#sk-container-id-1 div.sk-label label.sk-toggleable__label,\n",
              "#sk-container-id-1 div.sk-label label {\n",
              "  /* The background is the default theme color */\n",
              "  color: var(--sklearn-color-text-on-default-background);\n",
              "}\n",
              "\n",
              "/* On hover, darken the color of the background */\n",
              "#sk-container-id-1 div.sk-label:hover label.sk-toggleable__label {\n",
              "  color: var(--sklearn-color-text);\n",
              "  background-color: var(--sklearn-color-unfitted-level-2);\n",
              "}\n",
              "\n",
              "/* Label box, darken color on hover, fitted */\n",
              "#sk-container-id-1 div.sk-label.fitted:hover label.sk-toggleable__label.fitted {\n",
              "  color: var(--sklearn-color-text);\n",
              "  background-color: var(--sklearn-color-fitted-level-2);\n",
              "}\n",
              "\n",
              "/* Estimator label */\n",
              "\n",
              "#sk-container-id-1 div.sk-label label {\n",
              "  font-family: monospace;\n",
              "  font-weight: bold;\n",
              "  display: inline-block;\n",
              "  line-height: 1.2em;\n",
              "}\n",
              "\n",
              "#sk-container-id-1 div.sk-label-container {\n",
              "  text-align: center;\n",
              "}\n",
              "\n",
              "/* Estimator-specific */\n",
              "#sk-container-id-1 div.sk-estimator {\n",
              "  font-family: monospace;\n",
              "  border: 1px dotted var(--sklearn-color-border-box);\n",
              "  border-radius: 0.25em;\n",
              "  box-sizing: border-box;\n",
              "  margin-bottom: 0.5em;\n",
              "  /* unfitted */\n",
              "  background-color: var(--sklearn-color-unfitted-level-0);\n",
              "}\n",
              "\n",
              "#sk-container-id-1 div.sk-estimator.fitted {\n",
              "  /* fitted */\n",
              "  background-color: var(--sklearn-color-fitted-level-0);\n",
              "}\n",
              "\n",
              "/* on hover */\n",
              "#sk-container-id-1 div.sk-estimator:hover {\n",
              "  /* unfitted */\n",
              "  background-color: var(--sklearn-color-unfitted-level-2);\n",
              "}\n",
              "\n",
              "#sk-container-id-1 div.sk-estimator.fitted:hover {\n",
              "  /* fitted */\n",
              "  background-color: var(--sklearn-color-fitted-level-2);\n",
              "}\n",
              "\n",
              "/* Specification for estimator info (e.g. \"i\" and \"?\") */\n",
              "\n",
              "/* Common style for \"i\" and \"?\" */\n",
              "\n",
              ".sk-estimator-doc-link,\n",
              "a:link.sk-estimator-doc-link,\n",
              "a:visited.sk-estimator-doc-link {\n",
              "  float: right;\n",
              "  font-size: smaller;\n",
              "  line-height: 1em;\n",
              "  font-family: monospace;\n",
              "  background-color: var(--sklearn-color-background);\n",
              "  border-radius: 1em;\n",
              "  height: 1em;\n",
              "  width: 1em;\n",
              "  text-decoration: none !important;\n",
              "  margin-left: 0.5em;\n",
              "  text-align: center;\n",
              "  /* unfitted */\n",
              "  border: var(--sklearn-color-unfitted-level-1) 1pt solid;\n",
              "  color: var(--sklearn-color-unfitted-level-1);\n",
              "}\n",
              "\n",
              ".sk-estimator-doc-link.fitted,\n",
              "a:link.sk-estimator-doc-link.fitted,\n",
              "a:visited.sk-estimator-doc-link.fitted {\n",
              "  /* fitted */\n",
              "  border: var(--sklearn-color-fitted-level-1) 1pt solid;\n",
              "  color: var(--sklearn-color-fitted-level-1);\n",
              "}\n",
              "\n",
              "/* On hover */\n",
              "div.sk-estimator:hover .sk-estimator-doc-link:hover,\n",
              ".sk-estimator-doc-link:hover,\n",
              "div.sk-label-container:hover .sk-estimator-doc-link:hover,\n",
              ".sk-estimator-doc-link:hover {\n",
              "  /* unfitted */\n",
              "  background-color: var(--sklearn-color-unfitted-level-3);\n",
              "  color: var(--sklearn-color-background);\n",
              "  text-decoration: none;\n",
              "}\n",
              "\n",
              "div.sk-estimator.fitted:hover .sk-estimator-doc-link.fitted:hover,\n",
              ".sk-estimator-doc-link.fitted:hover,\n",
              "div.sk-label-container:hover .sk-estimator-doc-link.fitted:hover,\n",
              ".sk-estimator-doc-link.fitted:hover {\n",
              "  /* fitted */\n",
              "  background-color: var(--sklearn-color-fitted-level-3);\n",
              "  color: var(--sklearn-color-background);\n",
              "  text-decoration: none;\n",
              "}\n",
              "\n",
              "/* Span, style for the box shown on hovering the info icon */\n",
              ".sk-estimator-doc-link span {\n",
              "  display: none;\n",
              "  z-index: 9999;\n",
              "  position: relative;\n",
              "  font-weight: normal;\n",
              "  right: .2ex;\n",
              "  padding: .5ex;\n",
              "  margin: .5ex;\n",
              "  width: min-content;\n",
              "  min-width: 20ex;\n",
              "  max-width: 50ex;\n",
              "  color: var(--sklearn-color-text);\n",
              "  box-shadow: 2pt 2pt 4pt #999;\n",
              "  /* unfitted */\n",
              "  background: var(--sklearn-color-unfitted-level-0);\n",
              "  border: .5pt solid var(--sklearn-color-unfitted-level-3);\n",
              "}\n",
              "\n",
              ".sk-estimator-doc-link.fitted span {\n",
              "  /* fitted */\n",
              "  background: var(--sklearn-color-fitted-level-0);\n",
              "  border: var(--sklearn-color-fitted-level-3);\n",
              "}\n",
              "\n",
              ".sk-estimator-doc-link:hover span {\n",
              "  display: block;\n",
              "}\n",
              "\n",
              "/* \"?\"-specific style due to the `<a>` HTML tag */\n",
              "\n",
              "#sk-container-id-1 a.estimator_doc_link {\n",
              "  float: right;\n",
              "  font-size: 1rem;\n",
              "  line-height: 1em;\n",
              "  font-family: monospace;\n",
              "  background-color: var(--sklearn-color-background);\n",
              "  border-radius: 1rem;\n",
              "  height: 1rem;\n",
              "  width: 1rem;\n",
              "  text-decoration: none;\n",
              "  /* unfitted */\n",
              "  color: var(--sklearn-color-unfitted-level-1);\n",
              "  border: var(--sklearn-color-unfitted-level-1) 1pt solid;\n",
              "}\n",
              "\n",
              "#sk-container-id-1 a.estimator_doc_link.fitted {\n",
              "  /* fitted */\n",
              "  border: var(--sklearn-color-fitted-level-1) 1pt solid;\n",
              "  color: var(--sklearn-color-fitted-level-1);\n",
              "}\n",
              "\n",
              "/* On hover */\n",
              "#sk-container-id-1 a.estimator_doc_link:hover {\n",
              "  /* unfitted */\n",
              "  background-color: var(--sklearn-color-unfitted-level-3);\n",
              "  color: var(--sklearn-color-background);\n",
              "  text-decoration: none;\n",
              "}\n",
              "\n",
              "#sk-container-id-1 a.estimator_doc_link.fitted:hover {\n",
              "  /* fitted */\n",
              "  background-color: var(--sklearn-color-fitted-level-3);\n",
              "}\n",
              "</style><div id=\"sk-container-id-1\" class=\"sk-top-container\"><div class=\"sk-text-repr-fallback\"><pre>GridSearchCV(cv=5, estimator=LogisticRegression(max_iter=1000, random_state=42),\n",
              "             n_jobs=-1,\n",
              "             param_grid={&#x27;C&#x27;: [0.001, 0.01, 0.1, 1, 10],\n",
              "                         &#x27;class_weight&#x27;: [&#x27;balanced&#x27;, None],\n",
              "                         &#x27;penalty&#x27;: [&#x27;l1&#x27;, &#x27;l2&#x27;], &#x27;solver&#x27;: [&#x27;liblinear&#x27;]},\n",
              "             scoring=&#x27;f1&#x27;, verbose=1)</pre><b>In a Jupyter environment, please rerun this cell to show the HTML representation or trust the notebook. <br />On GitHub, the HTML representation is unable to render, please try loading this page with nbviewer.org.</b></div><div class=\"sk-container\" hidden><div class=\"sk-item sk-dashed-wrapped\"><div class=\"sk-label-container\"><div class=\"sk-label fitted sk-toggleable\"><input class=\"sk-toggleable__control sk-hidden--visually\" id=\"sk-estimator-id-1\" type=\"checkbox\" ><label for=\"sk-estimator-id-1\" class=\"sk-toggleable__label fitted sk-toggleable__label-arrow\"><div><div>GridSearchCV</div></div><div><a class=\"sk-estimator-doc-link fitted\" rel=\"noreferrer\" target=\"_blank\" href=\"https://scikit-learn.org/1.6/modules/generated/sklearn.model_selection.GridSearchCV.html\">?<span>Documentation for GridSearchCV</span></a><span class=\"sk-estimator-doc-link fitted\">i<span>Fitted</span></span></div></label><div class=\"sk-toggleable__content fitted\"><pre>GridSearchCV(cv=5, estimator=LogisticRegression(max_iter=1000, random_state=42),\n",
              "             n_jobs=-1,\n",
              "             param_grid={&#x27;C&#x27;: [0.001, 0.01, 0.1, 1, 10],\n",
              "                         &#x27;class_weight&#x27;: [&#x27;balanced&#x27;, None],\n",
              "                         &#x27;penalty&#x27;: [&#x27;l1&#x27;, &#x27;l2&#x27;], &#x27;solver&#x27;: [&#x27;liblinear&#x27;]},\n",
              "             scoring=&#x27;f1&#x27;, verbose=1)</pre></div> </div></div><div class=\"sk-parallel\"><div class=\"sk-parallel-item\"><div class=\"sk-item\"><div class=\"sk-label-container\"><div class=\"sk-label fitted sk-toggleable\"><input class=\"sk-toggleable__control sk-hidden--visually\" id=\"sk-estimator-id-2\" type=\"checkbox\" ><label for=\"sk-estimator-id-2\" class=\"sk-toggleable__label fitted sk-toggleable__label-arrow\"><div><div>best_estimator_: LogisticRegression</div></div></label><div class=\"sk-toggleable__content fitted\"><pre>LogisticRegression(C=1, class_weight=&#x27;balanced&#x27;, max_iter=1000, random_state=42,\n",
              "                   solver=&#x27;liblinear&#x27;)</pre></div> </div></div><div class=\"sk-serial\"><div class=\"sk-item\"><div class=\"sk-estimator fitted sk-toggleable\"><input class=\"sk-toggleable__control sk-hidden--visually\" id=\"sk-estimator-id-3\" type=\"checkbox\" ><label for=\"sk-estimator-id-3\" class=\"sk-toggleable__label fitted sk-toggleable__label-arrow\"><div><div>LogisticRegression</div></div><div><a class=\"sk-estimator-doc-link fitted\" rel=\"noreferrer\" target=\"_blank\" href=\"https://scikit-learn.org/1.6/modules/generated/sklearn.linear_model.LogisticRegression.html\">?<span>Documentation for LogisticRegression</span></a></div></label><div class=\"sk-toggleable__content fitted\"><pre>LogisticRegression(C=1, class_weight=&#x27;balanced&#x27;, max_iter=1000, random_state=42,\n",
              "                   solver=&#x27;liblinear&#x27;)</pre></div> </div></div></div></div></div></div></div></div></div>"
            ],
            "text/plain": [
              "GridSearchCV(cv=5, estimator=LogisticRegression(max_iter=1000, random_state=42),\n",
              "             n_jobs=-1,\n",
              "             param_grid={'C': [0.001, 0.01, 0.1, 1, 10],\n",
              "                         'class_weight': ['balanced', None],\n",
              "                         'penalty': ['l1', 'l2'], 'solver': ['liblinear']},\n",
              "             scoring='f1', verbose=1)"
            ]
          },
          "execution_count": 22,
          "metadata": {},
          "output_type": "execute_result"
        }
      ],
      "source": [
        "# Optimasi Logistic Regression\n",
        "# Parameter grid untuk Logistic Regression\n",
        "lr_param_grid = {\n",
        "    'C': [0.001, 0.01, 0.1, 1, 10],\n",
        "    'penalty': ['l1', 'l2'],\n",
        "    'solver': ['liblinear'],\n",
        "    'class_weight': ['balanced', None]\n",
        "}\n",
        "\n",
        "lr_model = LogisticRegression(random_state=42, max_iter=1000)\n",
        "lr_grid_search = GridSearchCV(\n",
        "    estimator=lr_model,\n",
        "    param_grid=lr_param_grid,\n",
        "    cv=5,\n",
        "    scoring='f1',\n",
        "    n_jobs=-1,\n",
        "    verbose=1\n",
        ")\n",
        "# Melatih Logistic Regression\n",
        "lr_grid_search.fit(X_train_res, y_train_res)"
      ]
    },
    {
      "cell_type": "markdown",
      "metadata": {
        "id": "z8IjNncaTsd1"
      },
      "source": [
        "## Evaluation"
      ]
    },
    {
      "cell_type": "code",
      "execution_count": 23,
      "metadata": {
        "colab": {
          "base_uri": "https://localhost:8080/"
        },
        "id": "ANq2MqjWTsd1",
        "outputId": "a00bf340-672d-49ec-8fc5-4e5a5c9d93b8",
        "trusted": true
      },
      "outputs": [
        {
          "name": "stdout",
          "output_type": "stream",
          "text": [
            "\n",
            "=== Logistic Regression ===\n",
            "Parameter Terbaik: {'C': 1, 'class_weight': 'balanced', 'penalty': 'l2', 'solver': 'liblinear'}\n",
            "Skor F1 Terbaik (Cross-Validation): 0.856396044803431\n",
            "\n",
            "Evaluasi Logistic Regression pada Data Pengujian:\n",
            "Akurasi: 0.8301886792452831\n",
            "Laporan Klasifikasi:\n",
            "               precision    recall  f1-score   support\n",
            "\n",
            "         0.0       0.92      0.87      0.89       173\n",
            "         1.0       0.53      0.67      0.59        39\n",
            "\n",
            "    accuracy                           0.83       212\n",
            "   macro avg       0.73      0.77      0.74       212\n",
            "weighted avg       0.85      0.83      0.84       212\n",
            "\n",
            "AUC-ROC: 0.8360752927226917\n"
          ]
        }
      ],
      "source": [
        "# Evaluasi Logistic Regression\n",
        "print(\"\\n=== Logistic Regression ===\")\n",
        "print(\"Parameter Terbaik:\", lr_grid_search.best_params_)\n",
        "print(\"Skor F1 Terbaik (Cross-Validation):\", lr_grid_search.best_score_)\n",
        "\n",
        "lr_best = lr_grid_search.best_estimator_\n",
        "y_pred_lr = lr_best.predict(X_test)\n",
        "\n",
        "print(\"\\nEvaluasi Logistic Regression pada Data Pengujian:\")\n",
        "print(\"Akurasi:\", accuracy_score(y_test, y_pred_lr))\n",
        "print(\"Laporan Klasifikasi:\\n\", classification_report(y_test, y_pred_lr))\n",
        "print(\"AUC-ROC:\", roc_auc_score(y_test, lr_best.predict_proba(X_test)[:, 1]))\n",
        "\n"
      ]
    },
    {
      "cell_type": "code",
      "execution_count": 24,
      "metadata": {
        "colab": {
          "base_uri": "https://localhost:8080/"
        },
        "id": "raY-boZgTsd4",
        "outputId": "a8752d65-43aa-4185-bafa-a27de39f3484",
        "trusted": true
      },
      "outputs": [
        {
          "name": "stdout",
          "output_type": "stream",
          "text": [
            "Rata-rata F1-Score (Cross-Validation): 0.856396044803431\n",
            "Standar Deviasi F1-Score: 0.03911048955759288\n",
            "\n",
            "Evaluasi Logistic Regression dengan Threshold Optimal ( 0.864237747298763 ):\n",
            "Akurasi: 0.8962264150943396\n",
            "Laporan Klasifikasi:\n",
            "               precision    recall  f1-score   support\n",
            "\n",
            "         0.0       0.90      0.98      0.94       173\n",
            "         1.0       0.87      0.51      0.65        39\n",
            "\n",
            "    accuracy                           0.90       212\n",
            "   macro avg       0.88      0.75      0.79       212\n",
            "weighted avg       0.89      0.90      0.89       212\n",
            "\n"
          ]
        }
      ],
      "source": [
        "# Cross-validation untuk memeriksa overfitting\n",
        "lr_cv_scores = cross_val_score(lr_best, X_train_res, y_train_res, cv=5, scoring='f1')\n",
        "print(\"Rata-rata F1-Score (Cross-Validation):\", lr_cv_scores.mean())\n",
        "print(\"Standar Deviasi F1-Score:\", lr_cv_scores.std())\n",
        "\n",
        "# Sesuaikan threshold untuk meningkatkan precision\n",
        "y_pred_proba_lr = lr_best.predict_proba(X_test)[:, 1]\n",
        "precision, recall, thresholds = precision_recall_curve(y_test, y_pred_proba_lr)\n",
        "optimal_idx = np.argmax(precision * recall)  # Maksimalkan precision * recall\n",
        "optimal_threshold = thresholds[optimal_idx]\n",
        "y_pred_lr_adjusted = (y_pred_proba_lr >= optimal_threshold).astype(int)\n",
        "\n",
        "print(\"\\nEvaluasi Logistic Regression dengan Threshold Optimal (\", optimal_threshold, \"):\")\n",
        "print(\"Akurasi:\", accuracy_score(y_test, y_pred_lr_adjusted))\n",
        "print(\"Laporan Klasifikasi:\\n\", classification_report(y_test, y_pred_lr_adjusted))"
      ]
    },
    {
      "cell_type": "code",
      "execution_count": 25,
      "metadata": {
        "colab": {
          "base_uri": "https://localhost:8080/"
        },
        "id": "E4vTQC2mTsd4",
        "outputId": "1cc3633b-caa8-4dc0-e241-ef08a097b2e0",
        "trusted": true
      },
      "outputs": [
        {
          "name": "stdout",
          "output_type": "stream",
          "text": [
            "\n",
            "Koefisien Logistic Regression:\n",
            "                     Feature  Coefficient\n",
            "18                  OverTime     1.265514\n",
            "28   YearsSinceLastPromotion     0.554610\n",
            "26            YearsAtCompany     0.522816\n",
            "14             MaritalStatus     0.484683\n",
            "17        NumCompaniesWorked     0.467271\n",
            "3                 Department     0.437042\n",
            "6             EducationField     0.425176\n",
            "4           DistanceFromHome     0.408370\n",
            "8                     Gender     0.289503\n",
            "16               MonthlyRate     0.284604\n",
            "5                  Education     0.225982\n",
            "9                 HourlyRate    -0.047039\n",
            "15             MonthlyIncome    -0.075638\n",
            "20         PerformanceRating    -0.080367\n",
            "19         PercentSalaryHike    -0.106690\n",
            "2                  DailyRate    -0.109423\n",
            "12                   JobRole    -0.170210\n",
            "1             BusinessTravel    -0.175929\n",
            "24     TrainingTimesLastYear    -0.200018\n",
            "25           WorkLifeBalance    -0.309073\n",
            "21  RelationshipSatisfaction    -0.383135\n",
            "10            JobInvolvement    -0.400213\n",
            "0                        Age    -0.420123\n",
            "13           JobSatisfaction    -0.493408\n",
            "23         TotalWorkingYears    -0.541409\n",
            "27        YearsInCurrentRole    -0.551440\n",
            "29      YearsWithCurrManager    -0.638425\n",
            "22          StockOptionLevel    -0.639997\n",
            "7    EnvironmentSatisfaction    -0.649841\n",
            "11                  JobLevel    -0.736325\n"
          ]
        }
      ],
      "source": [
        "# oefisien/Fitur Penting\n",
        "# Logistic Regression\n",
        "feature_names = df.drop(['Attrition', 'EmployeeId', 'EmployeeCount', 'StandardHours', 'Over18'], axis=1).columns\n",
        "lr_coef = pd.DataFrame({'Feature': feature_names, 'Coefficient': lr_best.coef_[0]})\n",
        "lr_coef = lr_coef.sort_values(by='Coefficient', ascending=False)\n",
        "print(\"\\nKoefisien Logistic Regression:\")\n",
        "print(lr_coef)\n",
        "\n"
      ]
    },
    {
      "cell_type": "code",
      "execution_count": 26,
      "metadata": {
        "colab": {
          "base_uri": "https://localhost:8080/"
        },
        "id": "hZ4scLfFTsd5",
        "outputId": "e365d79a-3059-4590-d264-d8eb9672d21a",
        "trusted": true
      },
      "outputs": [
        {
          "name": "stdout",
          "output_type": "stream",
          "text": [
            "\n",
            "Koefisien telah disimpan ke 'logistic_regression_coefficients.csv'\n"
          ]
        }
      ],
      "source": [
        "# Menyimpan ke file CSV\n",
        "lr_coef.to_csv('logistic_regression_coefficients.csv', index=False)\n",
        "print(\"\\nKoefisien telah disimpan ke 'logistic_regression_coefficients.csv'\")"
      ]
    }
  ],
  "metadata": {
    "colab": {
      "provenance": []
    },
    "kaggle": {
      "accelerator": "none",
      "dataSources": [
        {
          "datasetId": 7351584,
          "sourceId": 11711784,
          "sourceType": "datasetVersion"
        }
      ],
      "dockerImageVersionId": 31012,
      "isGpuEnabled": false,
      "isInternetEnabled": true,
      "language": "python",
      "sourceType": "notebook"
    },
    "kernelspec": {
      "display_name": "Python 3",
      "language": "python",
      "name": "python3"
    },
    "language_info": {
      "codemirror_mode": {
        "name": "ipython",
        "version": 3
      },
      "file_extension": ".py",
      "mimetype": "text/x-python",
      "name": "python",
      "nbconvert_exporter": "python",
      "pygments_lexer": "ipython3",
      "version": "3.11.11"
    }
  },
  "nbformat": 4,
  "nbformat_minor": 0
}
